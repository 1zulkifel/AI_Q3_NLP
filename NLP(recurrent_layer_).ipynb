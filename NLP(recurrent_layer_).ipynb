{
  "nbformat": 4,
  "nbformat_minor": 0,
  "metadata": {
    "colab": {
      "name": "NLP(recurrent layer ).ipynb",
      "provenance": [],
      "authorship_tag": "ABX9TyOByZks9ruQTyQ/IEQ8U7Oe",
      "include_colab_link": true
    },
    "kernelspec": {
      "name": "python3",
      "display_name": "Python 3"
    },
    "language_info": {
      "name": "python"
    }
  },
  "cells": [
    {
      "cell_type": "markdown",
      "metadata": {
        "id": "view-in-github",
        "colab_type": "text"
      },
      "source": [
        "<a href=\"https://colab.research.google.com/github/1zulkifel/AI_Q3_NLP/blob/master/NLP(recurrent_layer_).ipynb\" target=\"_parent\"><img src=\"https://colab.research.google.com/assets/colab-badge.svg\" alt=\"Open In Colab\"/></a>"
      ]
    },
    {
      "cell_type": "code",
      "metadata": {
        "id": "8zMXP8GuywU6"
      },
      "source": [
        "import numpy as np\n",
        "timesteps = 100\n",
        "input_features = 32\n",
        "output_features = 64\n",
        "\n",
        "inputs = np.random.random((timesteps, input_features))\n",
        "state_t = np.zeros((output_features,))\n",
        "\n",
        "W = np.random.random((output_features, input_features))\n",
        "U = np.random.random((output_features, output_features))\n",
        "b = np.random.random((output_features,))\n",
        "\n",
        "successive_outputs = []\n",
        "for input_t in inputs:\n",
        "    output_t = np.tanh(np.dot(W, input_t) + np.dot(U, state_t) + b)\n",
        "    successive_outputs.append(output_t)\n",
        "    state_t = output_t\n",
        "final_output_sequence = np.concatenate(successive_outputs, axis=0)"
      ],
      "execution_count": 1,
      "outputs": []
    },
    {
      "cell_type": "code",
      "metadata": {
        "colab": {
          "base_uri": "https://localhost:8080/"
        },
        "id": "kB3_3ND-0hjj",
        "outputId": "7bad6df8-fad4-43d9-b906-a2223c5bb322"
      },
      "source": [
        "# returns only the output at the last timestep\n",
        "from tensorflow.keras.models import Sequential\n",
        "from tensorflow.keras.layers import Embedding, SimpleRNN\n",
        "model = Sequential()\n",
        "model.add(Embedding(10000, 32))\n",
        "model.add(SimpleRNN(32))\n",
        "model.summary()"
      ],
      "execution_count": 5,
      "outputs": [
        {
          "output_type": "stream",
          "text": [
            "Model: \"sequential\"\n",
            "_________________________________________________________________\n",
            "Layer (type)                 Output Shape              Param #   \n",
            "=================================================================\n",
            "embedding (Embedding)        (None, None, 32)          320000    \n",
            "_________________________________________________________________\n",
            "simple_rnn (SimpleRNN)       (None, 32)                2080      \n",
            "=================================================================\n",
            "Total params: 322,080\n",
            "Trainable params: 322,080\n",
            "Non-trainable params: 0\n",
            "_________________________________________________________________\n"
          ],
          "name": "stdout"
        }
      ]
    },
    {
      "cell_type": "code",
      "metadata": {
        "colab": {
          "base_uri": "https://localhost:8080/"
        },
        "id": "Q-zg_coY1PwI",
        "outputId": "5653b902-6ca7-475c-bd0a-5013e2a18d67"
      },
      "source": [
        "model = Sequential()\n",
        "model.add(Embedding(10000, 32))\n",
        "model.add(SimpleRNN(32, return_sequences=True))\n",
        "model.add(SimpleRNN(32, return_sequences=True))\n",
        "\n",
        "model.add(SimpleRNN(32, return_sequences=True))\n",
        "\n",
        "model.add(SimpleRNN(32))\n",
        "model.summary()"
      ],
      "execution_count": 6,
      "outputs": [
        {
          "output_type": "stream",
          "text": [
            "Model: \"sequential_1\"\n",
            "_________________________________________________________________\n",
            "Layer (type)                 Output Shape              Param #   \n",
            "=================================================================\n",
            "embedding_1 (Embedding)      (None, None, 32)          320000    \n",
            "_________________________________________________________________\n",
            "simple_rnn_1 (SimpleRNN)     (None, None, 32)          2080      \n",
            "_________________________________________________________________\n",
            "simple_rnn_2 (SimpleRNN)     (None, None, 32)          2080      \n",
            "_________________________________________________________________\n",
            "simple_rnn_3 (SimpleRNN)     (None, None, 32)          2080      \n",
            "_________________________________________________________________\n",
            "simple_rnn_4 (SimpleRNN)     (None, 32)                2080      \n",
            "=================================================================\n",
            "Total params: 328,320\n",
            "Trainable params: 328,320\n",
            "Non-trainable params: 0\n",
            "_________________________________________________________________\n"
          ],
          "name": "stdout"
        }
      ]
    },
    {
      "cell_type": "markdown",
      "metadata": {
        "id": "XUauCu8Z1c8_"
      },
      "source": [
        "#Preparing the IMDB data"
      ]
    },
    {
      "cell_type": "code",
      "metadata": {
        "colab": {
          "base_uri": "https://localhost:8080/"
        },
        "id": "nuVMl81i1R6M",
        "outputId": "af52caa9-7ac6-4e50-f0ac-67f4e67e4b6a"
      },
      "source": [
        "from keras.datasets import imdb\n",
        "from keras.preprocessing import sequence\n",
        "max_features = 10000\n",
        "maxlen = 500\n",
        "batch_size = 32\n",
        "print('Loading data...')\n",
        "(input_train, y_train), (input_test, y_test) = imdb.load_data(num_words=max_features)\n",
        "\n",
        "print(len(input_train), 'train sequences')\n",
        "print(len(input_test), 'test sequences')\n",
        "print('Pad sequences (samples x time)')\n",
        "input_train = sequence.pad_sequences(input_train, maxlen=maxlen)\n",
        "input_test = sequence.pad_sequences(input_test, maxlen=maxlen)\n",
        "print('input_train shape:', input_train.shape)\n",
        "print('input_test shape:', input_test.shape)"
      ],
      "execution_count": 2,
      "outputs": [
        {
          "output_type": "stream",
          "text": [
            "Loading data...\n",
            "Downloading data from https://storage.googleapis.com/tensorflow/tf-keras-datasets/imdb.npz\n",
            "17465344/17464789 [==============================] - 0s 0us/step\n",
            "17473536/17464789 [==============================] - 0s 0us/step\n"
          ],
          "name": "stdout"
        },
        {
          "output_type": "stream",
          "text": [
            "<string>:6: VisibleDeprecationWarning: Creating an ndarray from ragged nested sequences (which is a list-or-tuple of lists-or-tuples-or ndarrays with different lengths or shapes) is deprecated. If you meant to do this, you must specify 'dtype=object' when creating the ndarray\n",
            "/usr/local/lib/python3.7/dist-packages/keras/datasets/imdb.py:155: VisibleDeprecationWarning: Creating an ndarray from ragged nested sequences (which is a list-or-tuple of lists-or-tuples-or ndarrays with different lengths or shapes) is deprecated. If you meant to do this, you must specify 'dtype=object' when creating the ndarray\n",
            "  x_train, y_train = np.array(xs[:idx]), np.array(labels[:idx])\n",
            "/usr/local/lib/python3.7/dist-packages/keras/datasets/imdb.py:156: VisibleDeprecationWarning: Creating an ndarray from ragged nested sequences (which is a list-or-tuple of lists-or-tuples-or ndarrays with different lengths or shapes) is deprecated. If you meant to do this, you must specify 'dtype=object' when creating the ndarray\n",
            "  x_test, y_test = np.array(xs[idx:]), np.array(labels[idx:])\n"
          ],
          "name": "stderr"
        },
        {
          "output_type": "stream",
          "text": [
            "25000 train sequences\n",
            "25000 test sequences\n",
            "Pad sequences (samples x time)\n",
            "input_train shape: (25000, 500)\n",
            "input_test shape: (25000, 500)\n"
          ],
          "name": "stdout"
        }
      ]
    },
    {
      "cell_type": "markdown",
      "metadata": {
        "id": "lnwzBVum2OaG"
      },
      "source": [
        "#Training the model with Embedding and SimpleRNN layers"
      ]
    },
    {
      "cell_type": "code",
      "metadata": {
        "colab": {
          "base_uri": "https://localhost:8080/"
        },
        "id": "ewVtr6pA1koK",
        "outputId": "c4c2eb8b-e0e7-486d-cf26-52f86dad6ccc"
      },
      "source": [
        "from keras.layers import Dense\n",
        "model = Sequential()\n",
        "model.add(Embedding(max_features, 32))\n",
        "model.add(SimpleRNN(32))\n",
        "model.add(Dense(1, activation='sigmoid'))\n",
        "model.compile(optimizer='rmsprop', loss='binary_crossentropy', metrics=['acc'])\n",
        "history = model.fit(input_train, y_train,\n",
        "                    epochs=10,\n",
        "                    batch_size=128,\n",
        "                    validation_split=0.2)"
      ],
      "execution_count": 7,
      "outputs": [
        {
          "output_type": "stream",
          "text": [
            "Epoch 1/10\n",
            "157/157 [==============================] - 99s 607ms/step - loss: 0.6059 - acc: 0.6525 - val_loss: 0.5470 - val_acc: 0.7314\n",
            "Epoch 2/10\n",
            "157/157 [==============================] - 96s 609ms/step - loss: 0.3841 - acc: 0.8360 - val_loss: 0.3990 - val_acc: 0.8262\n",
            "Epoch 3/10\n",
            "157/157 [==============================] - 96s 614ms/step - loss: 0.2956 - acc: 0.8800 - val_loss: 0.3687 - val_acc: 0.8424\n",
            "Epoch 4/10\n",
            "157/157 [==============================] - 97s 615ms/step - loss: 0.2314 - acc: 0.9105 - val_loss: 0.3798 - val_acc: 0.8444\n",
            "Epoch 5/10\n",
            "157/157 [==============================] - 95s 608ms/step - loss: 0.1743 - acc: 0.9341 - val_loss: 0.3751 - val_acc: 0.8644\n",
            "Epoch 6/10\n",
            "157/157 [==============================] - 93s 594ms/step - loss: 0.1146 - acc: 0.9607 - val_loss: 0.4643 - val_acc: 0.8526\n",
            "Epoch 7/10\n",
            "157/157 [==============================] - 95s 605ms/step - loss: 0.0796 - acc: 0.9738 - val_loss: 0.5392 - val_acc: 0.8118\n",
            "Epoch 8/10\n",
            "157/157 [==============================] - 94s 602ms/step - loss: 0.0533 - acc: 0.9832 - val_loss: 0.5330 - val_acc: 0.8224\n",
            "Epoch 9/10\n",
            "157/157 [==============================] - 94s 598ms/step - loss: 0.0408 - acc: 0.9869 - val_loss: 0.6422 - val_acc: 0.8024\n",
            "Epoch 10/10\n",
            "157/157 [==============================] - 94s 600ms/step - loss: 0.0240 - acc: 0.9933 - val_loss: 0.6143 - val_acc: 0.8272\n"
          ],
          "name": "stdout"
        }
      ]
    },
    {
      "cell_type": "markdown",
      "metadata": {
        "id": "pbbGPa90275A"
      },
      "source": [
        "#Plotting results"
      ]
    },
    {
      "cell_type": "code",
      "metadata": {
        "colab": {
          "base_uri": "https://localhost:8080/",
          "height": 545
        },
        "id": "KwggZFOY2UYs",
        "outputId": "978501c5-384d-4ad5-c4d2-b3935d5e5aea"
      },
      "source": [
        "import matplotlib.pyplot as plt\n",
        "acc=history.history['acc']\n",
        "val_acc=history.history['val_acc']\n",
        "loss=history.history['loss']\n",
        "val_loss=history.history['val_loss']\n",
        "epochs=range(1,len(acc)+1)\n",
        "plt.plot(epochs,acc,'bo',label='Training Acc')\n",
        "plt.plot(epochs,val_acc,'b',label='validation acc')\n",
        "plt.title('Training and validation accuracy')\n",
        "plt.legend()\n",
        "plt.figure()\n",
        "plt.plot(epochs, loss, 'bo', label='Training loss')\n",
        "plt.plot(epochs, val_loss, 'b', label='Validation loss')\n",
        "plt.title('Training and validation loss')\n",
        "plt.legend()\n",
        "plt.show()\n"
      ],
      "execution_count": 8,
      "outputs": [
        {
          "output_type": "display_data",
          "data": {
            "image/png": "[encoded data removed]",
            "text/plain": [
              "<Figure size 432x288 with 1 Axes>"
            ]
          },
          "metadata": {
            "tags": [],
            "needs_background": "light"
          }
        },
        {
          "output_type": "display_data",
          "data": {
            "image/png": "[encoded data removed]",
            "text/plain": [
              "<Figure size 432x288 with 1 Axes>"
            ]
          },
          "metadata": {
            "tags": [],
            "needs_background": "light"
          }
        }
      ]
    },
    {
      "cell_type": "code",
      "metadata": {
        "colab": {
          "base_uri": "https://localhost:8080/"
        },
        "id": "vocD76ql6mF5",
        "outputId": "45a67d41-3320-4a88-f14d-71c45daf5c0b"
      },
      "source": [
        "from keras.layers import LSTM\n",
        "model = Sequential()\n",
        "model.add(Embedding(max_features, 32))\n",
        "model.add(LSTM(32))\n",
        "model.add(Dense(1, activation='sigmoid'))\n",
        "model.compile(optimizer='rmsprop',loss='binary_crossentropy',\n",
        "              metrics=['acc'])\n",
        "history = model.fit(input_train, y_train,epochs=10,\n",
        "                    batch_size=128,validation_split=0.2)"
      ],
      "execution_count": 11,
      "outputs": [
        {
          "output_type": "stream",
          "text": [
            "Epoch 1/10\n",
            "157/157 [==============================] - 56s 342ms/step - loss: 0.5273 - acc: 0.7527 - val_loss: 0.3712 - val_acc: 0.8592\n",
            "Epoch 2/10\n",
            "157/157 [==============================] - 53s 338ms/step - loss: 0.2972 - acc: 0.8852 - val_loss: 0.2948 - val_acc: 0.8880\n",
            "Epoch 3/10\n",
            "157/157 [==============================] - 54s 343ms/step - loss: 0.2363 - acc: 0.9087 - val_loss: 0.3067 - val_acc: 0.8636\n",
            "Epoch 4/10\n",
            "157/157 [==============================] - 54s 342ms/step - loss: 0.2031 - acc: 0.9254 - val_loss: 0.3458 - val_acc: 0.8416\n",
            "Epoch 5/10\n",
            "157/157 [==============================] - 54s 342ms/step - loss: 0.1811 - acc: 0.9333 - val_loss: 0.3835 - val_acc: 0.8482\n",
            "Epoch 6/10\n",
            "157/157 [==============================] - 54s 343ms/step - loss: 0.1640 - acc: 0.9394 - val_loss: 0.4913 - val_acc: 0.8320\n",
            "Epoch 7/10\n",
            "157/157 [==============================] - 54s 341ms/step - loss: 0.1506 - acc: 0.9485 - val_loss: 0.3336 - val_acc: 0.8790\n",
            "Epoch 8/10\n",
            "157/157 [==============================] - 54s 344ms/step - loss: 0.1340 - acc: 0.9550 - val_loss: 0.4366 - val_acc: 0.8450\n",
            "Epoch 9/10\n",
            "157/157 [==============================] - 54s 342ms/step - loss: 0.1274 - acc: 0.9543 - val_loss: 0.3261 - val_acc: 0.8760\n",
            "Epoch 10/10\n",
            "157/157 [==============================] - 53s 341ms/step - loss: 0.1158 - acc: 0.9596 - val_loss: 0.3690 - val_acc: 0.8818\n"
          ],
          "name": "stdout"
        }
      ]
    },
    {
      "cell_type": "markdown",
      "metadata": {
        "id": "YlLRMpY6KR3y"
      },
      "source": [
        "#<font color='purple'>Advanced use of recurrent neural networks</font>"
      ]
    },
    {
      "cell_type": "code",
      "metadata": {
        "colab": {
          "base_uri": "https://localhost:8080/"
        },
        "id": "rbcW1y8UJQqt",
        "outputId": "763dbb13-0959-4a6c-8770-7bb9966c6351"
      },
      "source": [
        "!mkdir jena_climate\n",
        "!cd jena_climate\n",
        "!wget https://s3.amazonaws.com/keras-datasets/jena_climate_2009_2016.csv.zip\n",
        "!unzip jena_climate_2009_2016.csv.zip"
      ],
      "execution_count": 5,
      "outputs": [
        {
          "output_type": "stream",
          "text": [
            "--2021-06-03 09:36:45--  https://s3.amazonaws.com/keras-datasets/jena_climate_2009_2016.csv.zip\n",
            "Resolving s3.amazonaws.com (s3.amazonaws.com)... 52.217.104.94\n",
            "Connecting to s3.amazonaws.com (s3.amazonaws.com)|52.217.104.94|:443... connected.\n",
            "HTTP request sent, awaiting response... 200 OK\n",
            "Length: 13565642 (13M) [application/zip]\n",
            "Saving to: ‘jena_climate_2009_2016.csv.zip’\n",
            "\n",
            "\r          jena_clim   0%[                    ]       0  --.-KB/s               \rjena_climate_2009_2 100%[===================>]  12.94M  69.8MB/s    in 0.2s    \n",
            "\n",
            "2021-06-03 09:36:45 (69.8 MB/s) - ‘jena_climate_2009_2016.csv.zip’ saved [13565642/13565642]\n",
            "\n",
            "Archive:  jena_climate_2009_2016.csv.zip\n",
            "  inflating: jena_climate_2009_2016.csv  \n",
            "replace __MACOSX/._jena_climate_2009_2016.csv? [y]es, [n]o, [A]ll, [N]one, [r]ename: y\n",
            "  inflating: __MACOSX/._jena_climate_2009_2016.csv  \n"
          ],
          "name": "stdout"
        }
      ]
    },
    {
      "cell_type": "markdown",
      "metadata": {
        "id": "5Tum33jxK8J0"
      },
      "source": [
        " # Inspecting the data of the Jena weather dataset"
      ]
    },
    {
      "cell_type": "code",
      "metadata": {
        "colab": {
          "base_uri": "https://localhost:8080/"
        },
        "id": "r0--b-PQK-Vp",
        "outputId": "517ec2a7-13ec-4095-d82c-0b7b4a757dd0"
      },
      "source": [
        "import os\n",
        "data_dir = '/content'\n",
        "fname = os.path.join(data_dir, 'jena_climate_2009_2016.csv')\n",
        "f = open(fname)\n",
        "data = f.read()\n",
        "f.close()\n",
        "lines = data.split('\\n')\n",
        "header = lines[0].split(',')\n",
        "lines = lines[1:]\n",
        "print(header)\n",
        "print(len(lines))"
      ],
      "execution_count": 6,
      "outputs": [
        {
          "output_type": "stream",
          "text": [
            "['\"Date Time\"', '\"p (mbar)\"', '\"T (degC)\"', '\"Tpot (K)\"', '\"Tdew (degC)\"', '\"rh (%)\"', '\"VPmax (mbar)\"', '\"VPact (mbar)\"', '\"VPdef (mbar)\"', '\"sh (g/kg)\"', '\"H2OC (mmol/mol)\"', '\"rho (g/m**3)\"', '\"wv (m/s)\"', '\"max. wv (m/s)\"', '\"wd (deg)\"']\n",
            "420451\n"
          ],
          "name": "stdout"
        }
      ]
    },
    {
      "cell_type": "markdown",
      "metadata": {
        "id": "SvZ30X5bLG0W"
      },
      "source": [
        "#  Parsing the data"
      ]
    },
    {
      "cell_type": "code",
      "metadata": {
        "id": "f2iQuMdnLIAS"
      },
      "source": [
        "import numpy as np\n",
        "float_data = np.zeros((len(lines), len(header) - 1))\n",
        "for i, line in enumerate(lines):\n",
        "  values = [float(x) for x in line.split(',')[1:]]\n",
        "  float_data[i, :] = values"
      ],
      "execution_count": 8,
      "outputs": []
    },
    {
      "cell_type": "markdown",
      "metadata": {
        "id": "1dZeo5_FLPK7"
      },
      "source": [
        " # Plotting the temperature timeseries"
      ]
    },
    {
      "cell_type": "code",
      "metadata": {
        "colab": {
          "base_uri": "https://localhost:8080/",
          "height": 285
        },
        "id": "UhpW4C0dLQkZ",
        "outputId": "564ad2ad-dbf4-4644-f13a-dfe8fd8639c1"
      },
      "source": [
        "from matplotlib import pyplot as plt\n",
        "temp = float_data[:, 1]\n",
        "plt.plot(range(len(temp)), temp)"
      ],
      "execution_count": 9,
      "outputs": [
        {
          "output_type": "execute_result",
          "data": {
            "text/plain": [
              "[<matplotlib.lines.Line2D at 0x7f411c65e150>]"
            ]
          },
          "metadata": {
            "tags": []
          },
          "execution_count": 9
        },
        {
          "output_type": "display_data",
          "data": {
            "image/png": "[encoded data removed]",
            "text/plain": [
              "<Figure size 432x288 with 1 Axes>"
            ]
          },
          "metadata": {
            "tags": [],
            "needs_background": "light"
          }
        }
      ]
    },
    {
      "cell_type": "markdown",
      "metadata": {
        "id": "xv_hbgywLXex"
      },
      "source": [
        "# Plotting the first 10 days of the temperature timeseries"
      ]
    },
    {
      "cell_type": "code",
      "metadata": {
        "colab": {
          "base_uri": "https://localhost:8080/",
          "height": 282
        },
        "id": "yyUdPXUvLcfc",
        "outputId": "b66d80ee-b9d7-4f7d-ed2b-6e08caf37318"
      },
      "source": [
        "plt.plot(range(1440), temp[:1440])"
      ],
      "execution_count": 10,
      "outputs": [
        {
          "output_type": "execute_result",
          "data": {
            "text/plain": [
              "[<matplotlib.lines.Line2D at 0x7f411bf971d0>]"
            ]
          },
          "metadata": {
            "tags": []
          },
          "execution_count": 10
        },
        {
          "output_type": "display_data",
          "data": {
            "image/png": "[encoded data removed]",
            "text/plain": [
              "<Figure size 432x288 with 1 Axes>"
            ]
          },
          "metadata": {
            "tags": [],
            "needs_background": "light"
          }
        }
      ]
    },
    {
      "cell_type": "markdown",
      "metadata": {
        "id": "NKTqsi0ILiFa"
      },
      "source": [
        " # Normalizing the data"
      ]
    },
    {
      "cell_type": "code",
      "metadata": {
        "id": "3ixK1bzZLj5v"
      },
      "source": [
        "mean = float_data[:200000].mean(axis=0)\n",
        "float_data -= mean\n",
        "std = float_data[:200000].std(axis=0)\n",
        "float_data /= std"
      ],
      "execution_count": 12,
      "outputs": []
    },
    {
      "cell_type": "markdown",
      "metadata": {
        "id": "hjgHxkm4Lrks"
      },
      "source": [
        "# Generator yielding timeseries samples and their targets"
      ]
    },
    {
      "cell_type": "code",
      "metadata": {
        "id": "TENLQKgBLtSy"
      },
      "source": [
        "def generator(data, lookback, delay, min_index, max_index,\n",
        "              shuffle=False, batch_size=128, step=6):  \n",
        "  if max_index is None:\n",
        "    max_index = len(data) - delay - 1\n",
        "  i = min_index + lookback\n",
        "  while 1:\n",
        "    if shuffle:\n",
        "      rows = np.random.randint(min_index + lookback, max_index, size=batch_size)\n",
        "    else:\n",
        "      if i + batch_size >= max_index:\n",
        "          i = min_index + lookback\n",
        "      rows = np.arange(i, min(i + batch_size, max_index))\n",
        "      i += len(rows)\n",
        "    samples = np.zeros((len(rows),\n",
        "                        lookback // step,\n",
        "                        data.shape[-1]))\n",
        "    targets = np.zeros((len(rows),))\n",
        "    for j, row in enumerate(rows):\n",
        "      indices = range(rows[j] - lookback, rows[j], step)\n",
        "      samples[j] = data[indices]\n",
        "      targets[j] = data[rows[j] + delay][1]\n",
        "    yield samples, targets"
      ],
      "execution_count": 13,
      "outputs": []
    },
    {
      "cell_type": "code",
      "metadata": {
        "id": "M_tMjKD0PSje"
      },
      "source": [
        "lookback = 1440\n",
        "step = 6\n",
        "delay = 144\n",
        "batch_size = 128\n",
        "\n",
        "lookback = 1440\n",
        "step = 6\n",
        "delay = 144\n",
        "batch_size = 128\n",
        "\n",
        "train_gen = generator(float_data,\n",
        "                      lookback=lookback,\n",
        "                      delay=delay,\n",
        "                      min_index=0,\n",
        "                      max_index=200000,\n",
        "                      shuffle=True,\n",
        "                      step=step,\n",
        "                      batch_size=batch_size)\n",
        "val_gen = generator(float_data,\n",
        "                    lookback=lookback,\n",
        "                    delay=delay,\n",
        "                    min_index=200001,\n",
        "                    max_index=300000,\n",
        "                    step=step,\n",
        "                    batch_size=batch_size)\n",
        "test_gen = generator(float_data,\n",
        "                     lookback=lookback,\n",
        "                     delay=delay,\n",
        "                     min_index=300001,\n",
        "                     max_index=None,\n",
        "                     step=step,\n",
        "                     batch_size=batch_size)\n",
        "val_steps = (300000 - 200001 - lookback)\n",
        "test_steps = (len(float_data) - 300001 - lookback)"
      ],
      "execution_count": 15,
      "outputs": []
    },
    {
      "cell_type": "markdown",
      "metadata": {
        "id": "HRTIhicuPeRN"
      },
      "source": [
        "# Computing the common-sense baseline MAE"
      ]
    },
    {
      "cell_type": "code",
      "metadata": {
        "colab": {
          "base_uri": "https://localhost:8080/"
        },
        "id": "QxEEsStSPV40",
        "outputId": "38a767a5-a0fc-4120-d732-70cb6f4dc990"
      },
      "source": [
        "def evaluate_naive_method():\n",
        "  batch_maes = []\n",
        "  for step in range(val_steps):\n",
        "    samples, targets = next(val_gen)\n",
        "    preds = samples[:, -1, 1]\n",
        "    mae = np.mean(np.abs(preds - targets))\n",
        "    batch_maes.append(mae)\n",
        "  print(np.mean(batch_maes))\n",
        "evaluate_naive_method()"
      ],
      "execution_count": 16,
      "outputs": [
        {
          "output_type": "stream",
          "text": [
            "0.28969941979608466\n"
          ],
          "name": "stdout"
        }
      ]
    },
    {
      "cell_type": "markdown",
      "metadata": {
        "id": "TeXWC329PoZ6"
      },
      "source": [
        "# Converting the MAE back to a Celsius error"
      ]
    },
    {
      "cell_type": "code",
      "metadata": {
        "id": "V21WXlw0PkNX"
      },
      "source": [
        "celsius_mae = 0.29 * std[1]"
      ],
      "execution_count": 18,
      "outputs": []
    },
    {
      "cell_type": "markdown",
      "metadata": {
        "id": "wX6xZK-JP5SO"
      },
      "source": [
        "# A basic machine-learning approach\n",
        "Training and evaluating a densely connected model"
      ]
    },
    {
      "cell_type": "code",
      "metadata": {
        "id": "6N8C-UnlP25g"
      },
      "source": [
        "from keras.models import Sequential\n",
        "from keras import layers\n",
        "from keras.optimizers import RMSprop\n",
        "model = Sequential()\n",
        "model.add(layers.Flatten(input_shape=(lookback // step, float_data.shape[-1])))\n",
        "model.add(layers.Dense(32, activation='relu'))\n",
        "model.add(layers.Dense(1))"
      ],
      "execution_count": 19,
      "outputs": []
    },
    {
      "cell_type": "code",
      "metadata": {
        "colab": {
          "base_uri": "https://localhost:8080/"
        },
        "id": "DWMxpLMIQKDt",
        "outputId": "639425cf-79a0-4665-a774-625fa7efe911"
      },
      "source": [
        "model.compile(optimizer=RMSprop(), loss='mae')\n",
        "history = model.fit_generator(train_gen,\n",
        "                              steps_per_epoch=500,\n",
        "                              epochs=20,\n",
        "                              validation_data=val_gen,\n",
        "                              validation_steps=val_steps)"
      ],
      "execution_count": 20,
      "outputs": [
        {
          "output_type": "stream",
          "text": [
            "/usr/local/lib/python3.7/dist-packages/keras/engine/training.py:1915: UserWarning: `Model.fit_generator` is deprecated and will be removed in a future version. Please use `Model.fit`, which supports generators.\n",
            "  warnings.warn('`Model.fit_generator` is deprecated and '\n"
          ],
          "name": "stderr"
        },
        {
          "output_type": "stream",
          "text": [
            "Epoch 1/20\n",
            "500/500 [==============================] - 700s 1s/step - loss: 1.9275 - val_loss: 0.6589\n",
            "Epoch 2/20\n",
            "500/500 [==============================] - 688s 1s/step - loss: 0.5091 - val_loss: 0.3871\n",
            "Epoch 3/20\n",
            "500/500 [==============================] - 677s 1s/step - loss: 0.3025 - val_loss: 0.3090\n",
            "Epoch 4/20\n",
            "500/500 [==============================] - 678s 1s/step - loss: 0.2744 - val_loss: 0.3922\n",
            "Epoch 5/20\n",
            "500/500 [==============================] - 679s 1s/step - loss: 0.2578 - val_loss: 0.3226\n",
            "Epoch 6/20\n",
            "500/500 [==============================] - 680s 1s/step - loss: 0.2498 - val_loss: 0.3054\n",
            "Epoch 7/20\n",
            "500/500 [==============================] - 680s 1s/step - loss: 0.2388 - val_loss: 0.3128\n",
            "Epoch 8/20\n",
            "500/500 [==============================] - 686s 1s/step - loss: 0.2354 - val_loss: 0.3399\n",
            "Epoch 9/20\n",
            "500/500 [==============================] - 698s 1s/step - loss: 0.2289 - val_loss: 0.3164\n",
            "Epoch 10/20\n",
            "500/500 [==============================] - 703s 1s/step - loss: 0.2230 - val_loss: 0.3153\n",
            "Epoch 11/20\n",
            "500/500 [==============================] - 690s 1s/step - loss: 0.2194 - val_loss: 0.3190\n",
            "Epoch 12/20\n",
            "500/500 [==============================] - 683s 1s/step - loss: 0.2167 - val_loss: 0.3158\n",
            "Epoch 13/20\n",
            "500/500 [==============================] - 679s 1s/step - loss: 0.2150 - val_loss: 0.3599\n",
            "Epoch 14/20\n",
            "500/500 [==============================] - 690s 1s/step - loss: 0.2126 - val_loss: 0.3277\n",
            "Epoch 15/20\n",
            "500/500 [==============================] - 686s 1s/step - loss: 0.2088 - val_loss: 0.3396\n",
            "Epoch 16/20\n",
            "500/500 [==============================] - 682s 1s/step - loss: 0.2065 - val_loss: 0.3243\n",
            "Epoch 17/20\n",
            "500/500 [==============================] - 679s 1s/step - loss: 0.2045 - val_loss: 0.3322\n",
            "Epoch 18/20\n",
            "500/500 [==============================] - 681s 1s/step - loss: 0.2035 - val_loss: 0.3305\n",
            "Epoch 19/20\n",
            "500/500 [==============================] - 679s 1s/step - loss: 0.2003 - val_loss: 0.3364\n",
            "Epoch 20/20\n",
            "500/500 [==============================] - 676s 1s/step - loss: 0.1985 - val_loss: 0.3505\n"
          ],
          "name": "stdout"
        }
      ]
    },
    {
      "cell_type": "code",
      "metadata": {
        "id": "AWmrM_1J5JM0"
      },
      "source": [
        "model.save('jena_climate.h5')"
      ],
      "execution_count": 22,
      "outputs": []
    },
    {
      "cell_type": "code",
      "metadata": {
        "colab": {
          "base_uri": "https://localhost:8080/",
          "height": 281
        },
        "id": "NYkS9agiQPlk",
        "outputId": "7c69d109-decf-461f-95ee-ecbf785ac926"
      },
      "source": [
        "import matplotlib.pyplot as plt\n",
        "loss = history.history['loss']\n",
        "val_loss = history.history['val_loss']\n",
        "epochs = range(1, len(loss) + 1)\n",
        "plt.figure()\n",
        "plt.plot(epochs, loss, 'bo', label='Training loss')\n",
        "plt.plot(epochs, val_loss, 'b', label='Validation loss')\n",
        "plt.title('Training and validation loss')\n",
        "plt.legend()\n",
        "plt.show()"
      ],
      "execution_count": 23,
      "outputs": [
        {
          "output_type": "display_data",
          "data": {
            "image/png": "[encoded data removed]",
            "text/plain": [
              "<Figure size 432x288 with 1 Axes>"
            ]
          },
          "metadata": {
            "tags": [],
            "needs_background": "light"
          }
        }
      ]
    },
    {
      "cell_type": "markdown",
      "metadata": {
        "id": "uAp98Eo-oQkE"
      },
      "source": [
        "# Training and evaluating a dropout-regularized GRU-based model"
      ]
    },
    {
      "cell_type": "code",
      "metadata": {
        "colab": {
          "base_uri": "https://localhost:8080/"
        },
        "id": "tBXyYx1EoVpP",
        "outputId": "0591a094-2604-4f36-d97c-086658bdfc35"
      },
      "source": [
        "from keras.models import Sequential\n",
        "from keras import layers\n",
        "from keras.optimizers import RMSprop\n",
        "model = Sequential()\n",
        "model.add(layers.GRU(32,dropout=0.2,recurrent_dropout=0.2,\n",
        "                     input_shape=(None, float_data.shape[-1])))\n",
        "model.add(layers.Dense(1))\n",
        "model.compile(optimizer=RMSprop(), loss='mae')\n",
        "history = model.fit_generator(train_gen,steps_per_epoch=500,epochs=10,\n",
        "                              validation_data=val_gen,validation_steps=val_steps)"
      ],
      "execution_count": null,
      "outputs": [
        {
          "output_type": "stream",
          "text": [
            "WARNING:tensorflow:Layer gru_1 will not use cuDNN kernels since it doesn't meet the criteria. It will use a generic GPU kernel as fallback when running on GPU.\n",
            "Epoch 1/10\n"
          ],
          "name": "stdout"
        },
        {
          "output_type": "stream",
          "text": [
            "/usr/local/lib/python3.7/dist-packages/keras/engine/training.py:1915: UserWarning: `Model.fit_generator` is deprecated and will be removed in a future version. Please use `Model.fit`, which supports generators.\n",
            "  warnings.warn('`Model.fit_generator` is deprecated and '\n"
          ],
          "name": "stderr"
        },
        {
          "output_type": "stream",
          "text": [
            "500/500 [==============================] - 5355s 11s/step - loss: 0.3497 - val_loss: 0.2920\n",
            "Epoch 2/10\n",
            "500/500 [==============================] - 5411s 11s/step - loss: 0.3111 - val_loss: 0.2787\n",
            "Epoch 3/10\n",
            "500/500 [==============================] - ETA: 0s - loss: 0.3027"
          ],
          "name": "stdout"
        }
      ]
    },
    {
      "cell_type": "code",
      "metadata": {
        "id": "36EcU1YKP4Ic"
      },
      "source": [
        ""
      ],
      "execution_count": null,
      "outputs": []
    }
  ]
}